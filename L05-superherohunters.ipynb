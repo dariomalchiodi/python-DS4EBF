{
 "cells": [
  {
   "cell_type": "markdown",
   "metadata": {},
   "source": [
    "# CACCIA AL SUPEREROE\n",
    "In questa variante di gioco, oltre all'uso di oggetti si ricorre alla libreria *numpy* per la gestione di matrici e vettori.\n",
    "\n",
    "## Il gioco\n",
    "Su una mappa quadrata, i supereroi si muovono. I supereroi Marvel e DC cacciano altri supereroi di cui nutrirsi, mentre la classe degli *altri* supereroi consumano le risorse del territorio.\n",
    "\n",
    "La mappa, le risorse, le posizioni dei supereroi, il coefficiente reciproco di forza, e le statistiche di combattimento sono memorizzate per mezzo di matrici e vettori."
   ]
  },
  {
   "cell_type": "code",
   "execution_count": 62,
   "metadata": {},
   "outputs": [],
   "source": [
    "import numpy as np\n",
    "import matplotlib.pyplot as plt\n",
    "import itertools"
   ]
  },
  {
   "cell_type": "code",
   "execution_count": 115,
   "metadata": {},
   "outputs": [],
   "source": [
    "class BattleField(object):\n",
    "    \n",
    "    def __init__(self, heroes, size):\n",
    "        self.heroes = heroes\n",
    "        self.map = np.full(size, np.nan)\n",
    "        self.resources = np.random.sample(size)\n",
    "    \n",
    "    def get_hero(self, v, h):\n",
    "        try:\n",
    "            h = self.heroes[self.map[v,h]]\n",
    "        except IndexError:\n",
    "            h = None\n",
    "        except TypeError:\n",
    "            h = None\n",
    "        return h\n",
    "        \n",
    "    def surrounding(self, field, radius=1):\n",
    "        y = [k for k in range(field[0]-radius, field[0]+radius+1) if k >= 0 and k < self.map.shape[0]]\n",
    "        x = [k for k in range(field[1]-radius, field[1]+radius+1) if k >= 0 and k < self.map.shape[1]]\n",
    "        return [(v, h, \n",
    "                 self.resources[v,h], \n",
    "                 self.get_hero(v, h)) for v, h in itertools.product(y, x) if (v, h) != field]"
   ]
  },
  {
   "cell_type": "code",
   "execution_count": 144,
   "metadata": {},
   "outputs": [],
   "source": [
    "class Hero(object):\n",
    "    \n",
    "    def __init__(self, name, strength):\n",
    "        self.name, self.strength = name, strength\n",
    "        self.stamina, self.generation = 10 * self.strength, 0\n",
    "        self.movement, self.mutation_p, self.mutation_rate = 1, 0.5, 0.1\n",
    "    \n",
    "    def direction(self, surroundings):\n",
    "        \"\"\"\n",
    "        Simple Heroes escape from enemies and move to food and other heroes\n",
    "        They stay in case no choices are available (returns None for the decision)\n",
    "        \"\"\"\n",
    "        options = [s for s in surroundings if s[3] is None or type(s[3]) == type(self)]\n",
    "        values = np.array([x[2] for x in options])\n",
    "        try:\n",
    "            choice = options[np.argmax(values)]\n",
    "            return choice[0], choice[1]\n",
    "        except ValueError:\n",
    "            return None\n",
    "    \n",
    "    def meet(self, hero):\n",
    "        \"\"\"\n",
    "        Only one hero survives in meetings\n",
    "        When Heroes meet other heroes of the same type, they generate a new (mutated) Hero\n",
    "        Otherwise they fight\n",
    "        Returns a list of all the heroes involved, to check stamina after meeting\n",
    "        \"\"\"\n",
    "        if type(hero) == type(self):\n",
    "            self.generate(hero)\n",
    "        else:\n",
    "            print 'Fight'\n",
    "    \n",
    "    def generate(self, parent):\n",
    "        new_name = self.name\n",
    "        new_strength = int((self.strength + parent.strength) / 2)\n",
    "        m_p, m_r = (self.mutation_p + parent.mutation_p) / 2, (self.mutation_rate + parent.mutation_rate) / 2\n",
    "        if np.random.uniform() < (self.mutation_p + parent.mutation_p) / 2:\n",
    "            new_strength = max(0, int(np.random.choice([\n",
    "                (new_strength - new_strength*self.mutation_rate),\n",
    "                (new_strength + new_strength*self.mutation_rate)])))\n",
    "            m_p = max(0, min(1.0, np.random.choice([\n",
    "                (m_p - m_p * m_r), (m_p + m_p * m_r)\n",
    "            ])))\n",
    "            m_r = max(0, min(1.0, np.random.choice([\n",
    "                (m_r - m_r * m_r), (m_r + m_r * m_r)\n",
    "            ])))\n",
    "        new_hero = Hero(new_name, new_strenght) # how with subclasses?\n",
    "\n",
    "\n"
   ]
  },
  {
   "cell_type": "code",
   "execution_count": null,
   "metadata": {},
   "outputs": [],
   "source": []
  },
  {
   "cell_type": "code",
   "execution_count": 145,
   "metadata": {},
   "outputs": [],
   "source": [
    "F = BattleField([], (3,3))"
   ]
  },
  {
   "cell_type": "code",
   "execution_count": 146,
   "metadata": {},
   "outputs": [],
   "source": [
    "S = F.surrounding(field=(1,1))"
   ]
  },
  {
   "cell_type": "code",
   "execution_count": 147,
   "metadata": {},
   "outputs": [],
   "source": [
    "H = Hero('Gino', 100)\n",
    "J = Hero('Maria', 90)"
   ]
  },
  {
   "cell_type": "code",
   "execution_count": 154,
   "metadata": {},
   "outputs": [
    {
     "name": "stdout",
     "output_type": "stream",
     "text": [
      "95\n",
      "85\n"
     ]
    }
   ],
   "source": [
    "H.meet(J)"
   ]
  },
  {
   "cell_type": "code",
   "execution_count": 130,
   "metadata": {},
   "outputs": [
    {
     "name": "stdout",
     "output_type": "stream",
     "text": [
      "None\n"
     ]
    }
   ],
   "source": [
    "H.direction([])"
   ]
  },
  {
   "cell_type": "code",
   "execution_count": 75,
   "metadata": {},
   "outputs": [],
   "source": [
    "t = np.full((2,2), np.nan)"
   ]
  },
  {
   "cell_type": "code",
   "execution_count": 38,
   "metadata": {},
   "outputs": [
    {
     "data": {
      "text/plain": [
       "array([6, 0, 3, 4, 5])"
      ]
     },
     "execution_count": 38,
     "metadata": {},
     "output_type": "execute_result"
    }
   ],
   "source": [
    "a = np.array([6, 0, 3, 4, 5])\n",
    "np.select([a > 0], [a])"
   ]
  },
  {
   "cell_type": "code",
   "execution_count": 76,
   "metadata": {},
   "outputs": [
    {
     "data": {
      "text/plain": [
       "(0, 1)"
      ]
     },
     "execution_count": 76,
     "metadata": {},
     "output_type": "execute_result"
    }
   ],
   "source": [
    "t[0][1] = 23\n",
    "np.unravel_index(np.nanargmax(t, axis=None), t.shape)"
   ]
  },
  {
   "cell_type": "code",
   "execution_count": 77,
   "metadata": {},
   "outputs": [
    {
     "name": "stdout",
     "output_type": "stream",
     "text": [
      "[[ nan  23.]\n",
      " [ nan  nan]]\n"
     ]
    }
   ],
   "source": [
    "print t"
   ]
  },
  {
   "cell_type": "code",
   "execution_count": null,
   "metadata": {},
   "outputs": [],
   "source": []
  }
 ],
 "metadata": {
  "kernelspec": {
   "display_name": "Python 2",
   "language": "python",
   "name": "python2"
  },
  "language_info": {
   "codemirror_mode": {
    "name": "ipython",
    "version": 2
   },
   "file_extension": ".py",
   "mimetype": "text/x-python",
   "name": "python",
   "nbconvert_exporter": "python",
   "pygments_lexer": "ipython2",
   "version": "2.7.14"
  }
 },
 "nbformat": 4,
 "nbformat_minor": 2
}
