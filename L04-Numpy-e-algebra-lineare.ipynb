{
 "cells": [
  {
   "cell_type": "markdown",
   "metadata": {},
   "source": [
    "# Python, numpy e algebra lineare\n",
    "\n",
    "## Scalari e vettori\n",
    "\n",
    "Nelle lezioni precedenti abbiamo visto come i dati possano avere diversi tipi e diversi modi di venire strutturati. Concentrandoci per il momento su dati di tipo numerico e ragioniamo su due possibili modalità in cui questi dati si possono presentare. Considereremo da una parte una singola espressione numerica, che indica per esempio la misurazione di una specifica quantità, e dall'altra una successione (finita) di espressioni numeriche _dello stesso tipo_, che potrebbero indicare misurazioni di una stessa quantità su individui differenti. Nella terminologia matematico-fisica questi due casi corrispondono rispettivamente a dati detti di tipo _scalare_ e _vettoriale_, e più in generale si possono usare i termini _scalare_ e _vettore_ per indicare un dato di queste tipologie.\n",
    "\n",
    "In python, così come con un generico linguaggio di programmazione, è molto facile lavorare con un dato scalare: basta scrivere un'espressione corrispondente e poi lavorarci sopra: per esempio l'istruzione"
   ]
  },
  {
   "cell_type": "code",
   "execution_count": null,
   "metadata": {},
   "outputs": [],
   "source": [
    "altezza = 1.84"
   ]
  },
  {
   "cell_type": "markdown",
   "metadata": {},
   "source": [
    "memorizza nella variabile `altezza` la quantità scalare 1.84. Per quanto riguarda le quantità vettoriali, gli strumenti del linguaggio che risulta immediato utilizzare sono le liste e le tuple. Per esempio possiamo facilmente memorizzare in una variabile `l` una lista contenente gli interi da 0 a 9: la cella seguente stampa tale variabile unitamente al corrispondente tipo, che ovviamente è `list`."
   ]
  },
  {
   "cell_type": "code",
   "execution_count": 18,
   "metadata": {},
   "outputs": [
    {
     "name": "stdout",
     "output_type": "stream",
     "text": [
      "[0, 1, 2, 3, 4, 5, 6, 7, 8, 9] <type 'list'>\n"
     ]
    }
   ],
   "source": [
    "num_elements = 10\n",
    "\n",
    "l = range(num_elements)\n",
    "print l, type(l)"
   ]
  },
  {
   "cell_type": "markdown",
   "metadata": {},
   "source": [
    "In realtà le cose sono più complicate: il package `numpy` mette a disposizione il tipo di dato `ndarray`, a cui faremo riferimento nel seguito come _array_ o _vettore_, che risulta più adatto per memorizzare quantità vettoriali. Nella cella seguente viene utilizzata la funzione `arange` che funziona nello stesso modo di `range` ma restituisce un array. In questo caso, la funzione `type` restituisce `numpy.ndarray`, a indicare che tutti gli elementi del vettore sono dello stesso tipo, e per capire quale sia questo tipo è possibile accedere al campo `dtype`:"
   ]
  },
  {
   "cell_type": "code",
   "execution_count": 21,
   "metadata": {},
   "outputs": [
    {
     "name": "stdout",
     "output_type": "stream",
     "text": [
      "[0 1 2 3 4 5 6 7 8 9] <type 'numpy.ndarray'> int64\n"
     ]
    }
   ],
   "source": [
    "import numpy as np\n",
    "\n",
    "a = np.arange(num_elements)\n",
    "print a, type(a), a.dtype"
   ]
  },
  {
   "cell_type": "markdown",
   "metadata": {},
   "source": [
    "Va notato come il tipo ottenuto sia `int64` e non `int`, in quanto il package numpy ha una sua specifica implementazione dei tipi di dati fondamentali, per questioni legate alla portabilità del codice e alla sua efficienza."
   ]
  },
  {
   "cell_type": "markdown",
   "metadata": {},
   "source": [
    "Perché è necessario avere due tipi diversi per rappresentare una sequenza di valori? In effetti non lo è affatto: si potrebbe per esempio utilizzare una lista avendo cura di inserire al suo interno valori dello stesso tipo. In realtà, l'esistenza degli array è giustificata da motivazioni basate piuttosto sul concetto di _efficienza_. La prima di queste motivazioni è legata allo spazio occupato: intuitivamente, ogni valore viene memorizzato _codificandolo_ in una serie di numeri, e ovviamente da qualche parte sarà necessario memorizzare anche il _tipo_ del valore, altrimenti non sarebbe possibile l'operazione inversa di decodifica. Ora, una lista contiene potenzialmente valori di tipo diverso in ogni sua posizione, e quindi è necessario memorizzare esplicitamente il tipo di ogni suo elemento. Al contrario, un array contiene elementi di tipo omogeneo, e quindi è sufficiente memorizzarlo una sola volta per l'intero array.\n",
    "\n",
    "Vi è poi un altro tipo di efficienza che vale la pena considerare: quella legata al tempo necessario per elaborare liste e array: questi ultimi sono implementati in modo da utilizzare degli algoritmi che, sfruttando il fatto che i valori contenuti sono dello stesso tipo, risultano più veloci. Si tratta di qualcosa che possiamo verificare empiricamente: siccome le differenze nei tempi di computazione tendono a non emergere quando si elaborano dati di piccole dimensioni, ridefiniamo `l` ed `a` rispettivamente come una lista e un array contenenti i primi diecimila numeri interi non negativi."
   ]
  },
  {
   "cell_type": "code",
   "execution_count": 37,
   "metadata": {},
   "outputs": [],
   "source": [
    "num_elements = 10**4\n",
    "l = range(num_elements)\n",
    "a = np.arange(num_elements)"
   ]
  },
  {
   "cell_type": "markdown",
   "metadata": {},
   "source": [
    "Calcoliamo ora la somma degli elementi in `l`. Non ci interessa il risultato in sé (che peraltro si potrebbe ottenere in un modo molto più furbo), ma il tempo necessario a ottenerlo. Per misurare quest'ultimo possiamo utilizzare una particolare funzione di jupyter, chiamata _line magic_: facendo precedere `%timeit` a una riga di codice, quando questa viene valutata il suo contenuto viene eseguito più volte, registrando i tempi necessari per portare a termine l'esecuzione e restituendo il tempo medio."
   ]
  },
  {
   "cell_type": "code",
   "execution_count": 39,
   "metadata": {},
   "outputs": [
    {
     "name": "stdout",
     "output_type": "stream",
     "text": [
      "10000 loops, best of 3: 94.2 µs per loop\n"
     ]
    }
   ],
   "source": [
    "%timeit sum(l)"
   ]
  },
  {
   "cell_type": "markdown",
   "metadata": {},
   "source": [
    "Possiamo eseguire la stessa operazione sull'array `a`, invocando però su di esso la funzione `sum`."
   ]
  },
  {
   "cell_type": "code",
   "execution_count": 64,
   "metadata": {},
   "outputs": [
    {
     "name": "stdout",
     "output_type": "stream",
     "text": [
      "The slowest run took 47.63 times longer than the fastest. This could mean that an intermediate result is being cached.\n",
      "100000 loops, best of 3: 10.7 µs per loop\n"
     ]
    }
   ],
   "source": [
    "%timeit a.sum()"
   ]
  },
  {
   "cell_type": "markdown",
   "metadata": {},
   "source": [
    "Come possiamo vedere, il tempo medio scende di un ordine di grandezza se passiamo da liste ad array (a onor del vero dovremmo anche tenere conto del messaggio di _warning_, ma si tratta di una cosa che va al di là dello scopo di questa lezione).\n",
    "\n",
    "Vi è infine un terzo aspetto da considerare: il package numpy mette a disposizione una serie di funzioni per manipolare vettori. Un primo esempio di tali funzioni coinvolge l'estensione ai vettori di alcune operazioni matematiche che normalmente utilizziamo per gli scalari, come descritto nel prossimo paragrafo.\n",
    "\n",
    "In generale, per creare un vettore si utilizza la funzione `array` del package numpy (che è un _alias_, ovvero un modo alternativo, per `ndarray` che abbiamo già incontrato), passando come argomento una lista o una tupla di valori. L'array verrà creato inserendovi gli elementi nello stesso ordine in cui questi occorrono nella lista o nella tupla."
   ]
  },
  {
   "cell_type": "code",
   "execution_count": 30,
   "metadata": {},
   "outputs": [],
   "source": [
    "heights = np.array([178, 194, 183, 179])"
   ]
  },
  {
   "cell_type": "markdown",
   "metadata": {},
   "source": [
    "Dato un vettore `v`, le operazioni basilari che si possono eseguire su di esso sono:\n",
    "\n",
    "* determinare il tipo del vettore, come già visto, accedendo al campo `dtype`"
   ]
  },
  {
   "cell_type": "code",
   "execution_count": 31,
   "metadata": {},
   "outputs": [
    {
     "data": {
      "text/plain": [
       "dtype('int64')"
      ]
     },
     "execution_count": 31,
     "metadata": {},
     "output_type": "execute_result"
    }
   ],
   "source": [
    "heights.dtype"
   ]
  },
  {
   "cell_type": "markdown",
   "metadata": {},
   "source": [
    "* calcolare la sua _lunghezza_, intesa come il numero di elementi in esso contenuti, passando il vettore come argomento della funzione `len` (la stessa usata per calcolare la lunghezza di liste, tuple, stringhe e così via."
   ]
  },
  {
   "cell_type": "code",
   "execution_count": 32,
   "metadata": {},
   "outputs": [
    {
     "data": {
      "text/plain": [
       "4"
      ]
     },
     "execution_count": 32,
     "metadata": {},
     "output_type": "execute_result"
    }
   ],
   "source": [
    "len(heights)"
   ]
  },
  {
   "cell_type": "markdown",
   "metadata": {},
   "source": [
    "* accedere ai suoi elementi tramite la stessa notazione posizionale utilizzata per le liste e le tuple, anche utilizzando la tecnica di _slicing_, che viene estesa nella forma `start:end:step` in cui `start` e `end` mantengono lo stesso significato, mentre `step` permette di specificare di quante posizioni spostarsi ogni volta che si passa a un elemento successivo:"
   ]
  },
  {
   "cell_type": "code",
   "execution_count": 102,
   "metadata": {},
   "outputs": [
    {
     "data": {
      "text/plain": [
       "array([ 0,  5, 10, 15])"
      ]
     },
     "execution_count": 102,
     "metadata": {},
     "output_type": "execute_result"
    }
   ],
   "source": [
    "a[0:20:5]"
   ]
  },
  {
   "cell_type": "markdown",
   "metadata": {},
   "source": [
    "Nel seguito useremo due notazioni alternative per indicare gli array. Quando vorremo enfatizzare delle proprietà di python indicheremo un vettore usando un carattere monospaziato, come `v`, e faremo riferimento all'usuale notazione posizionale `v[i]` per indicare un generico elemento del vettore. Se vorremo invece concentrarci su aspetti più matematici useremo un carattere proporzionale, per esempio $v$, e indicheremo l'estrazione di un elemento $v_i$ scrivendo in pedice la corrispondente posizione. Per coerenza con le notazioni normalmente utilizzate in ambito informatico e matematico, nel primo caso la posizione iniziale sarà 0, mentre nel secondo la stessa posizione sarà 1."
   ]
  },
  {
   "cell_type": "markdown",
   "metadata": {},
   "source": [
    "## Operazioni tra scalari e vettori\n",
    "\n",
    "Nella vita (e a questo punto anche un po' scrivendo codice python) a effettuare calcoli più o meno semplici che coinvolgono quantità scalari. Questi calcoli sono fatti coinvolgendo una o più _operazioni_ matematiche come la somma, la divisione e così via. Sebbene di solito non ci poniamo il problema di confrontare il tipo del risultato ottenuto con quello dei dati di partenza, un bravo informatico (ma anche un bravo analista dei dati) deve prestare attenzione a questo tipo di dettagli. Matematicamente parlando, si usa il termine _struttura algebrica_ (o più brevemente _algebra_) per indicare un insieme $I$ e un'operazione caratterizzati dal fatto che applicando l'operazione a dati provenienti dall'insieme si ottiene un risultato anch'esso contenuto in $I$. Per esempio sommando dei numeri interi si ottiene un risultato intero, il quoziente tra un numero reale per un altro numero reale è anch'esso reale e così via. Si usa il termine _algebra_ più in generale per riferirsi a una branca della matematica che studia le proprietà delle strutture algebriche (l'etimologia va riferita alla parola _al-jabr_ nel titolo dell'opera _al-Kitāb al-mukhtaṣar fī ḥisāb al-jabr wa al-muqābala_, traducibile come \"Compendio sul calcolo per equilibrio e completamento\" e scritta dal matematico persiano Muḥammad ibn Mūsā al-Khwārizmī, al cui nome si fa risalire anche l'etimologia del termine _algoritmo_).\n",
    "\n",
    "Così come per gli scalari, è possibile pensare a operazioni che coinvolgono delle algebre di vettori. In particolare, se due vettori `v1` e `v2` hanno la stessa lunghezza in linea di principio è possibile estendere a essi tutte le operazioni binarie che già eseguiamo su quantità scalari lavorando _componente per componente_. In tal senso gli array possono essere usati come operandi delle principali operazioni finora viste, a patto che abbiano lunghezza identica: pertanto, la somma di due vettori `v1` e `v2` di lunghezza $n$ sarà un vettore di $n$ elementi che avrà in $i$-esima posizione il valore `v1[i] + v2[i]`, e parimenti accadrà per `v1 * v2` o `v1 / v2`.\n",
    "\n",
    "Nella cella seguente viene calcolata la differenza tra un vettore `birth` contenente l'anno di nascita di quattro individui e un vettore `graduation` contenente l'anno in cui i medesimi individui si sono laureati, ottenendo un array con le corrispondenti età alla laurea."
   ]
  },
  {
   "cell_type": "code",
   "execution_count": 43,
   "metadata": {},
   "outputs": [
    {
     "data": {
      "text/plain": [
       "array([25, 29, 25, 24])"
      ]
     },
     "execution_count": 43,
     "metadata": {},
     "output_type": "execute_result"
    }
   ],
   "source": [
    "birth = np.array([1954, 1936, 1982, 1994])\n",
    "graduation = np.array([1979, 1965, 2007, 2018])\n",
    "age_at_graduation = graduation - birth\n",
    "age_at_graduation"
   ]
  },
  {
   "cell_type": "markdown",
   "metadata": {},
   "source": [
    "Una semantica analoga viene data alle operazioni che coinvolgono uno scalare `s` e un vettore `v` (non necessariamente in questo ordine): il risultato sarà un vettore che nell'$i$-esima posizione contiene il risultato dell'operazione eseguita su `s` e `v[i]`. Pertanto la cella seguente calcola un array con le età degli individui i cui anni di nascita sono memorizzati in ´birth`"
   ]
  },
  {
   "cell_type": "code",
   "execution_count": 44,
   "metadata": {},
   "outputs": [
    {
     "data": {
      "text/plain": [
       "array([64, 82, 36, 24])"
      ]
     },
     "execution_count": 44,
     "metadata": {},
     "output_type": "execute_result"
    }
   ],
   "source": [
    "2018 - birth"
   ]
  },
  {
   "cell_type": "markdown",
   "metadata": {},
   "source": [
    "e analogamente la cella seguente converte tali età in mesi"
   ]
  },
  {
   "cell_type": "code",
   "execution_count": 46,
   "metadata": {},
   "outputs": [
    {
     "data": {
      "text/plain": [
       "array([768, 984, 432, 288])"
      ]
     },
     "execution_count": 46,
     "metadata": {},
     "output_type": "execute_result"
    }
   ],
   "source": [
    "12 * (2018 - birth)"
   ]
  },
  {
   "cell_type": "markdown",
   "metadata": {},
   "source": [
    "Va notato che gli operatori di confronto estendono in modo analogo il loro comportamento quando vengono applicati a dei vettori, generando pertanto come risultato dei vettori i cui elementi sono valori booleani."
   ]
  },
  {
   "cell_type": "code",
   "execution_count": 47,
   "metadata": {},
   "outputs": [
    {
     "data": {
      "text/plain": [
       "array([ True, False,  True, False], dtype=bool)"
      ]
     },
     "execution_count": 47,
     "metadata": {},
     "output_type": "execute_result"
    }
   ],
   "source": [
    "marriage = np.array([1981, 1963, 2008, 2018])\n",
    "graduation < marriage"
   ]
  },
  {
   "cell_type": "markdown",
   "metadata": {},
   "source": [
    "Un effetto collaterale di questa semantica è quello di non poter utilizzare operatori come `==` o `!=` per stabilire se due vettori siano o meno uguali, dove l'uguaglianza si identifica con il fatto che elementi nella medesima posizione risultino uguali."
   ]
  },
  {
   "cell_type": "code",
   "execution_count": 48,
   "metadata": {},
   "outputs": [
    {
     "data": {
      "text/plain": [
       "array([False, False, False,  True], dtype=bool)"
      ]
     },
     "execution_count": 48,
     "metadata": {},
     "output_type": "execute_result"
    }
   ],
   "source": [
    "graduation == marriage"
   ]
  },
  {
   "cell_type": "markdown",
   "metadata": {},
   "source": [
    "Ovviamente è possibile ricondurre il test di uguaglianza alla verifica del fatto che il vettore ottenuto applicando l'operatore `==` contenga esclusivamente valori `True`. Il package numpy mette a disposizione la funzione `all` esattamente per questo scopo:"
   ]
  },
  {
   "cell_type": "code",
   "execution_count": 49,
   "metadata": {},
   "outputs": [
    {
     "data": {
      "text/plain": [
       "False"
      ]
     },
     "execution_count": 49,
     "metadata": {},
     "output_type": "execute_result"
    }
   ],
   "source": [
    "np.all(graduation == marriage)"
   ]
  },
  {
   "cell_type": "code",
   "execution_count": 50,
   "metadata": {},
   "outputs": [
    {
     "data": {
      "text/plain": [
       "True"
      ]
     },
     "execution_count": 50,
     "metadata": {},
     "output_type": "execute_result"
    }
   ],
   "source": [
    "np.all(graduation == graduation)"
   ]
  },
  {
   "cell_type": "markdown",
   "metadata": {},
   "source": [
    "Nel package è presente anche la funzione `any`, che verifica se almeno uno degli elementi di un vettore è `True`, e tale funzione può essere usata per verificare quando due vettori siano diversi."
   ]
  },
  {
   "cell_type": "code",
   "execution_count": 58,
   "metadata": {},
   "outputs": [
    {
     "data": {
      "text/plain": [
       "True"
      ]
     },
     "execution_count": 58,
     "metadata": {},
     "output_type": "execute_result"
    }
   ],
   "source": [
    "np.any(graduation != marriage)"
   ]
  },
  {
   "cell_type": "markdown",
   "metadata": {},
   "source": [
    "È anche possibile effettuare operazioni tra array e liste o tuple, sempre a patto di usare argomenti con lunghezza uguale. Dietro le quinte la lista o la tupla verrà trasformata nel corrispondente array prima di eseguire l'operazione indicata."
   ]
  },
  {
   "cell_type": "code",
   "execution_count": 90,
   "metadata": {},
   "outputs": [
    {
     "data": {
      "text/plain": [
       "array([1981, 1963, 2008, 2018])"
      ]
     },
     "execution_count": 90,
     "metadata": {},
     "output_type": "execute_result"
    }
   ],
   "source": [
    "marriage + [0, 0, 0, 0]"
   ]
  },
  {
   "cell_type": "markdown",
   "metadata": {},
   "source": [
    "Non è invece possibile calcolare un'operazione usando due vettori di lunghezza diversa. La valutazione di questo tipo causa tipicamente la generazione di un errore."
   ]
  },
  {
   "cell_type": "code",
   "execution_count": 88,
   "metadata": {},
   "outputs": [
    {
     "ename": "ValueError",
     "evalue": "operands could not be broadcast together with shapes (4,) (2,) ",
     "output_type": "error",
     "traceback": [
      "\u001b[0;31m---------------------------------------------------------------------------\u001b[0m",
      "\u001b[0;31mValueError\u001b[0m                                Traceback (most recent call last)",
      "\u001b[0;32m<ipython-input-88-d0a7e3c2d6a2>\u001b[0m in \u001b[0;36m<module>\u001b[0;34m()\u001b[0m\n\u001b[0;32m----> 1\u001b[0;31m \u001b[0mmarriage\u001b[0m \u001b[0;34m+\u001b[0m \u001b[0mnp\u001b[0m\u001b[0;34m.\u001b[0m\u001b[0marray\u001b[0m\u001b[0;34m(\u001b[0m\u001b[0;34m[\u001b[0m\u001b[0;36m0\u001b[0m\u001b[0;34m,\u001b[0m \u001b[0;36m0\u001b[0m\u001b[0;34m]\u001b[0m\u001b[0;34m)\u001b[0m\u001b[0;34m\u001b[0m\u001b[0m\n\u001b[0m",
      "\u001b[0;31mValueError\u001b[0m: operands could not be broadcast together with shapes (4,) (2,) "
     ]
    }
   ],
   "source": [
    "marriage + np.array([0, 0])"
   ]
  },
  {
   "cell_type": "markdown",
   "metadata": {},
   "source": [
    "Va rimarcato che in alcuni casi speciali è possibile però eseguire operazioni con vettori di lunghezza diversa, grazie a una particolare interpretazione fatta dall'esecutore del linguaggio che prende il nome di _broadcasting_. È quello che succede per esempio quando si somma un vettore con uno scalare: lo scalare viene implicitamente convertito in un vettore di lunghezza uno, e questo vettore viene poi \"allungato\" ripetendo il suo unico elemento in modo da raggiungere la lunghezza necessaria per poter eseguire l'operazione elemento per elemento. Il _broadcasting_ in realtà segue regole leggermente più complicate, che però non tratteremo.\n",
    "\n",
    "Vi sono infine delle operazioni create appositamente per lavorare con vettori, le quali non hanno una controparte per le quantità scalari. Uno degli esempi più semplici è quello del cosiddetto _prodotto scalare_ tra vettori (non fatevi ingannare dal nome). Da un punto di vista formale, dati due vettori $a$ e $b$ entrambi di lunghezza $n$, il loro prodotto scalare è la quantità (scalare)\n",
    "\n",
    "$$\n",
    "a \\cdot b = \\sum_{i=1}^n a_i b_i\n",
    "$$\n",
    "\n",
    "ottenuta calcolando il prodotto degli elementi in una stessa posizione e sommando i risultati ottenuti. Il package numpy permette di calcolare il prodotto scalare tra due vettori invocando su uno di essi la funzione `dot` (in inglese si usa il termine _dot product_ per indcare il prodotto scalare) e specificando l'altro vettore come argomento. In altre parole il prodotto tra `a` e `b` si otterrà valutando l'espressione `a.dot(b)`.\n",
    "\n",
    "Consideriamo per esempio sei prodotti e memorizziamo in due vettori `prices` e `quantities` rispettivamente il prezzo unitario di questi prodotti e la quantità acquistata per ognuno di essi, il prodotto scalare tra due componenti dei vettori in una stessa posizione indicherà la somma spesa per uno specifico prodotto, così che il prodotto scalare corrisponderà al totale speso."
   ]
  },
  {
   "cell_type": "code",
   "execution_count": 60,
   "metadata": {},
   "outputs": [
    {
     "data": {
      "text/plain": [
       "155.41000000000003"
      ]
     },
     "execution_count": 60,
     "metadata": {},
     "output_type": "execute_result"
    }
   ],
   "source": [
    "quantities = np.array([2, 5, 7, 1, 0, 3])\n",
    "prices = np.array([5.99, 4.50, 9.99, 15, 2.50, 12])\n",
    "quantities.dot(prices)"
   ]
  },
  {
   "cell_type": "markdown",
   "metadata": {},
   "source": [
    "Una nota a margine: il risultato dovrebbe essere 141.1, ma alcuni dettagli relativi al modo in cui vengono codificati i numeri con la virgola in python (e in generale nei calcolatori) ha l'effetto di aggiungere questo errore.\n",
    "\n",
    "Gli array reimplementano inoltre alcune funzioni in modo da sfruttare l'omogeneità dei loro contenuti al fine di ottimizzarne il tempo di esecuzione. Queste funzioni, che hanno tipicamente lo stesso nome che avrebbero nelle implementazioni standard del linguaggio, vanno invocate sul vettore e sono di due tipi diversi:\n",
    "\n",
    "- quelle che eseguono un'operazione su ognuna delle componenti e resituiscono l'array dei corrispondenti risultati: `sin`, `log` e `exp` che restituiscono un array le cui componenti sono uguali al risultato del calcolo del seno, del logaritmo e dell'elevamento alla costante di Napier delle componenti del vettore di partenza, sono alcuni esempi di questo primo tipo di funzioni;\n",
    "- quelle che elaborano tutti gli elementi del vettore per restituire un valore scalare: abbiamo già visto un esempio di una siffatta funzione all'inizio della lezione quando abbiamo invocato `sum` per sommare gli elementi in un vettore; altri esempi di funzioni di questo tipo sono quelle legate alle operazioni di base della statistica descrittiva, come `mean`, `min`, `std` e così via."
   ]
  },
  {
   "cell_type": "markdown",
   "metadata": {},
   "source": [
    "## Matrici\n",
    "\n",
    "Spesso risulta opportuno considerare più vettori della stessa dimensione, per esempio perché ognuno di essi rappresenta una serie di misurazioni di quantità a istanti differenti. Un modo particolare per organizzare vettori di questo tipo e quello di arrangiarli uno sopra l'altro, costruendo quello che viene chiamato un _array bidimensionale_ o _matrice_. Ovviamente sarebbe possibile anche affiancare i vettori disponendoli verticalmente da sinistra verso destra, ma tra poco vedremo come la prima convenzione presenti dei vantaggi.\n",
    "\n",
    "La funzione `array` permette di costruire facilmente delle matrici: è sufficiente specificare come argomento non più una lista (o una tupla), bensì una lista di liste (o di tuple) aventi uguale lunghezza. Per esempio, se riconsideriamo gli ipotetici prodotti della fine del paragrafo precedente, potremmo immaginare di avere annotato in quattro liste le quantità acquistate nei trimestri di un anno. Aggregando queste liste in una lista è quindi possibile costruire una matrice."
   ]
  },
  {
   "cell_type": "code",
   "execution_count": 70,
   "metadata": {},
   "outputs": [
    {
     "data": {
      "text/plain": [
       "array([[2, 5, 7, 1, 0, 3],\n",
       "       [0, 3, 8, 1, 1, 1],\n",
       "       [6, 3, 5, 0, 2, 2],\n",
       "       [4, 6, 2, 0, 0, 2]])"
      ]
     },
     "execution_count": 70,
     "metadata": {},
     "output_type": "execute_result"
    }
   ],
   "source": [
    "quantities_per_quarter = np.array([[2, 5, 7, 1, 0, 3],\n",
    "                                   [0, 3, 8, 1, 1, 1],\n",
    "                                   [6, 3, 5, 0, 2, 2],\n",
    "                                   [4, 6, 2, 0, 0, 2]])\n",
    "quantities_per_quarter"
   ]
  },
  {
   "cell_type": "markdown",
   "metadata": {},
   "source": [
    "Ovviamente è possibile astrarre questo modo di procedere e costruire degli array multidimensionali, ma non è una cosa di cui ci occuperemo per il momento.\n",
    "\n",
    "Quando si utilizza una matrice `m` si ragiona quindi inizialmente in termini delle sue righe, a cui si accede usando l'usuale notazione posizionale: `m[0]` rappresenta la prima riga, `m[1]` la seconda e così via."
   ]
  },
  {
   "cell_type": "code",
   "execution_count": 78,
   "metadata": {},
   "outputs": [
    {
     "data": {
      "text/plain": [
       "array([0, 3, 8, 1, 1, 1])"
      ]
     },
     "execution_count": 78,
     "metadata": {},
     "output_type": "execute_result"
    }
   ],
   "source": [
    "quantities_per_quarter[1]"
   ]
  },
  {
   "cell_type": "markdown",
   "metadata": {},
   "source": [
    "Le righe sono quindi a loro volta memorizzate come degli array semplici. Pertanto per accedere all'elemento nella riga `r` e nella colonna `c` di una matrice `m` si può utilizzare la notazione `m[r][c]`, anche se in alternativa è disponibile la forma più compatta `m[r, c]`."
   ]
  },
  {
   "cell_type": "code",
   "execution_count": 79,
   "metadata": {},
   "outputs": [
    {
     "data": {
      "text/plain": [
       "2"
      ]
     },
     "execution_count": 79,
     "metadata": {},
     "output_type": "execute_result"
    }
   ],
   "source": [
    "quantities_per_quarter[2, 5]"
   ]
  },
  {
   "cell_type": "markdown",
   "metadata": {},
   "source": [
    "La lunghezza di una matrice è pari al numero delle sue righe, sebbene più spesso risulti più interessante ragionare alternativamente in termini del numero totale di elementi oppure del numero di righe e di colonne. Il numero di righe e di colonne (le _dimensioni_ della matrice) si ottengono, organizzate in una coppia, tramite il campo `shape`:"
   ]
  },
  {
   "cell_type": "code",
   "execution_count": 85,
   "metadata": {},
   "outputs": [
    {
     "data": {
      "text/plain": [
       "(4, 6)"
      ]
     },
     "execution_count": 85,
     "metadata": {},
     "output_type": "execute_result"
    }
   ],
   "source": [
    "quantities_per_quarter.shape"
   ]
  },
  {
   "cell_type": "markdown",
   "metadata": {},
   "source": [
    "mentre il numero di elementi (che ovviamente è uguale al prodotto delle dimensioni) si ottiene leggendo il campo `size`:"
   ]
  },
  {
   "cell_type": "code",
   "execution_count": 86,
   "metadata": {},
   "outputs": [
    {
     "data": {
      "text/plain": [
       "24"
      ]
     },
     "execution_count": 86,
     "metadata": {},
     "output_type": "execute_result"
    }
   ],
   "source": [
    "quantities_per_quarter.size"
   ]
  },
  {
   "cell_type": "markdown",
   "metadata": {},
   "source": [
    "Le tecniche di slicing si possono applicare separatamente sulle dimensioni di una matrice. In particolare `:` specifica l'intero insieme di posizioni di un array, cosa che rende particolarmente semplice riferirsi alla colonna di una matrice:"
   ]
  },
  {
   "cell_type": "code",
   "execution_count": 104,
   "metadata": {},
   "outputs": [
    {
     "data": {
      "text/plain": [
       "array([1, 1, 0, 0])"
      ]
     },
     "execution_count": 104,
     "metadata": {},
     "output_type": "execute_result"
    }
   ],
   "source": [
    "quantities_per_quarter[:,3]"
   ]
  },
  {
   "cell_type": "markdown",
   "metadata": {},
   "source": [
    "Le operazioni componente per componente precedentemente viste per i vettori si estendono facilmente anche alle matrici: per esempio il prodotto o la somma tra due matrici, calcolato usando l'operatore `+` o `*`, ha come risultato una nuova matrice, di dimensioni invariate, il cui generico elemento è rispettivamente uguale alla somma o al prodotto dei corrispondenti elementi nelle due matrici di partenza.\n",
    "\n",
    "Il concetto di prodotto scalare tra vettori si estende anch'esso facilmente a un prodotto tra una matrice e un vettore: se il numero di colonne della matrice è uguale alla lunghezza del vettore, è possibile calcolare il prodotto scalare tra una generica riga e il vettore, organizzando i risultati in un nuovo vettore. Ciò risulta utile quando la matrice riunisce insieme delle righe su cui si vuole effettuare la stessa operazione usando un prodotto scalare. Per esempio, riprendendo il caso del calcolo della spesa totale precedentemente introdotto, il prodotto tra la matrice `quantities_per_quarter` e il vettore `prices`, che si calcola in python in modo analogo a quanto visto per i vettori, sarà il seguente vettore le cui componenti rappresentano la spesa totale per trimestre."
   ]
  },
  {
   "cell_type": "code",
   "execution_count": 69,
   "metadata": {},
   "outputs": [
    {
     "data": {
      "text/plain": [
       "array([ 155.41,  122.92,  128.39,   94.94])"
      ]
     },
     "execution_count": 69,
     "metadata": {},
     "output_type": "execute_result"
    }
   ],
   "source": [
    "quantities_per_quarter.dot(prices)"
   ]
  },
  {
   "cell_type": "markdown",
   "metadata": {},
   "source": [
    "Vi sono infine alcune operazioni specifiche per le matrici: giusto per fare un esempio, capita di dover _trasporre_ una matrice, scambiando le sue righe con le sue colonne. Questa operazione può essere fatta invocando la funzione `transpose` del package numpy, o equivalentemente accedendo al campo `T` della matrice di partenza."
   ]
  },
  {
   "cell_type": "code",
   "execution_count": 91,
   "metadata": {},
   "outputs": [
    {
     "data": {
      "text/plain": [
       "array([[2, 0, 6, 4],\n",
       "       [5, 3, 3, 6],\n",
       "       [7, 8, 5, 2],\n",
       "       [1, 1, 0, 0],\n",
       "       [0, 1, 2, 0],\n",
       "       [3, 1, 2, 2]])"
      ]
     },
     "execution_count": 91,
     "metadata": {},
     "output_type": "execute_result"
    }
   ],
   "source": [
    "quantities_per_quarter.T"
   ]
  },
  {
   "cell_type": "markdown",
   "metadata": {},
   "source": [
    "Va però sottolineato come il risultato ottenuto non sia una vera e propria nuova matrice, bensì una _vista_ della matrice originale. Ciò significa che le modifiche fatte sulla matrice di partenza si rifletteranno su quella trasposta e viceversa. Lo stesso capita quando per esempio si accede a un vettore o a una matrice usando la tecnica dello _slicing_.\n",
    "\n",
    "Le operazioni fatte su una matrice si possono poi intendere in vari modi: di norma il loro comportamento predefinito coinvolge tutti gli elementi della matrice, ma spesso è possibile eseguire riga per riga oppure colonna per colonna, sfruttando l'opzione `axis`: specificando l'argomento `axis=0` l'operazione verrà svolta separatamente su ogni colonna, restituendo un vettore che contiene i risultati ottenuti:"
   ]
  },
  {
   "cell_type": "code",
   "execution_count": 95,
   "metadata": {},
   "outputs": [
    {
     "data": {
      "text/plain": [
       "array([12, 17, 22,  2,  3,  8])"
      ]
     },
     "execution_count": 95,
     "metadata": {},
     "output_type": "execute_result"
    }
   ],
   "source": [
    "quantities_per_quarter.sum(axis=0)"
   ]
  },
  {
   "cell_type": "markdown",
   "metadata": {},
   "source": [
    "Parimenti, `axis=1` permette di eseguire l'operazione su ogni riga:"
   ]
  },
  {
   "cell_type": "code",
   "execution_count": 93,
   "metadata": {},
   "outputs": [
    {
     "data": {
      "text/plain": [
       "array([18, 14, 18, 14])"
      ]
     },
     "execution_count": 93,
     "metadata": {},
     "output_type": "execute_result"
    }
   ],
   "source": [
    "quantities_per_quarter.sum(axis=1)"
   ]
  },
  {
   "cell_type": "markdown",
   "metadata": {},
   "source": [
    "Sebbene gli esempi che abbiamo visto finora facessero riferimento solamente a dati di tipo numerico, è possibile costruire vettori di stringhe. Ciò permette di organizzare un dataset in forma tabulare usando un vettore per ogni caratteristica misurata, dove questo vettore contiene le misurazioni di una caratteristica per una serie di individui considerati. Va però rilvato che non è possibile affiancare questi vettori per costruire una matrice, perché nel caso generale le righe ottenute non sarebbero dei vettori, potendo essere le misurazioni di caratteristiche diverse risultanti in tipi di dati diversi. Per questo motivo l'uso di python per l'analisi dei dati necessita l'utilizzo di strutture di dati più complesse, come per esempio i _dataframe_ che vedremo nella prossima lezione."
   ]
  }
 ],
 "metadata": {
  "kernelspec": {
   "display_name": "Python 2",
   "language": "python",
   "name": "python2"
  },
  "language_info": {
   "codemirror_mode": {
    "name": "ipython",
    "version": 2
   },
   "file_extension": ".py",
   "mimetype": "text/x-python",
   "name": "python",
   "nbconvert_exporter": "python",
   "pygments_lexer": "ipython2",
   "version": "2.7.10"
  }
 },
 "nbformat": 4,
 "nbformat_minor": 2
}
