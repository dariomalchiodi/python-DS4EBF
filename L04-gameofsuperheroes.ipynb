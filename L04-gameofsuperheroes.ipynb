{
 "cells": [
  {
   "cell_type": "markdown",
   "metadata": {},
   "source": [
    "# Superheroes battle\n",
    "Questa lezione costituisce un esempio complessivo dell'uso di oggetti, lettura di file, e strutture dati."
   ]
  },
  {
   "cell_type": "code",
   "execution_count": 1,
   "metadata": {},
   "outputs": [
    {
     "data": {
      "application/javascript": [
       "IPython.OutputArea.prototype._should_scroll = function(lines) {\n",
       "    return false;\n",
       "}"
      ],
      "text/plain": [
       "<IPython.core.display.Javascript object>"
      ]
     },
     "metadata": {},
     "output_type": "display_data"
    }
   ],
   "source": [
    "%%javascript\n",
    "IPython.OutputArea.prototype._should_scroll = function(lines) {\n",
    "    return false;\n",
    "}"
   ]
  },
  {
   "cell_type": "code",
   "execution_count": 2,
   "metadata": {},
   "outputs": [],
   "source": [
    "import random\n",
    "from IPython.core.display import display, HTML\n",
    "import matplotlib.pyplot as plt\n",
    "import numpy as np\n",
    "from collections import defaultdict\n",
    "from IPython.display import clear_output\n",
    "import time"
   ]
  },
  {
   "cell_type": "markdown",
   "metadata": {},
   "source": [
    "## La gara\n",
    "Nel nostro gioco i supereroi *Marvel* sfidano i supereroi *DC* su una mappa quadrata. \n",
    "- Il gioco è diviso in turni. \n",
    "- In ogni turno un supereroe si muove sulla mappa\n",
    "- Se un supereroe X muovendosi sulla mappa si imbatte in un altro supereroe Y avviene una di queste due cose:\n",
    "    - Se X appartiene alla stessa squadra di Y: X è eliminato dal gioco e i suoi valori di attacco e difesa sono aggiunti a quelli di Y\n",
    "    - Se X e Y sono di squadre diverse avviene un combattimento che dura fino all'eliminazione di uno dei due\n",
    "- Se invece il campo di arrivo sulla mappa è vuoto: X occupa il campo e acquisisce una delle risorse lì conservate"
   ]
  },
  {
   "cell_type": "markdown",
   "metadata": {},
   "source": [
    "# Classi"
   ]
  },
  {
   "cell_type": "markdown",
   "metadata": {},
   "source": [
    "## Hero\n",
    "Rappresenta un supereroe, caratterizzato dalla squadra a cui appartiene e da una resistenza iniziale, una forza in attacco e una in difesa che dipendono dall'altezza, dal peso, dal sesso, e dalla squadra di appartenenza. I supereroi Marvel si muovono di una sola posizione in qualsiasi direzione, quelli DC di una o due posizioni ma solo in direzione verticale o orizzontale. Il movimento avviene sempre nella direzione dei campi con maggiori risorse."
   ]
  },
  {
   "cell_type": "code",
   "execution_count": 3,
   "metadata": {},
   "outputs": [],
   "source": [
    "class Hero(object):\n",
    "    \n",
    "    x_map = {'M': 2, 'F': 1}\n",
    "\n",
    "    def __init__(self, name, height, weight, strength, sex):\n",
    "        self.name = name\n",
    "        self.h = height\n",
    "        self.w = weight\n",
    "        self.s = strength\n",
    "        self.x = sex\n",
    "        self.stamina = Hero.x_map[self.x] * (self.w / 10 + self.h / 10)\n",
    "        self.attack = self.s * Hero.x_map[self.x]\n",
    "        self.defense = (self.h + self.w) * Hero.x_map[self.x]\n",
    "        self.color = '#009900'\n",
    "        self.x, self.y = None, None\n",
    "    \n",
    "    def fight(self, enemy):\n",
    "        while self.stamina > 0 and enemy.stamina > 0:\n",
    "            if np.random.uniform() < float(self.attack) / enemy.defense:\n",
    "                enemy.stamina -= 2\n",
    "            if np.random.uniform() < float(enemy.attack) / self.defense:\n",
    "                self.stamina -= 2\n",
    "        if enemy.stamina >= self.stamina:\n",
    "            return enemy\n",
    "        else:\n",
    "            return self\n",
    "    \n",
    "    def eat(self, field):\n",
    "        self.stamina += field.get_resource()\n",
    "        \n",
    "    def move(self, battlefield):\n",
    "        pass\n",
    "    \n",
    "    def __unicode__(self):\n",
    "        u = u'name: {}\\n attack: {}\\n defense: {}\\n stamina: {}'.format(\n",
    "            self.name, self.attack, self.defense, self.stamina\n",
    "        )\n",
    "        return u\n",
    "    \n",
    "    def print_h(self):\n",
    "        print unicode(self)\n",
    "            \n",
    "        \n",
    "class Marvel(Hero):\n",
    "    \n",
    "    def __init__(self, name, height, weight, strength, sex):\n",
    "        super(Marvel, self).__init__(name, height, weight, strength, sex)\n",
    "        self.color = '#990000'\n",
    "    \n",
    "    def move(self, battlefield):\n",
    "        options = []\n",
    "        self.stamina -= 1\n",
    "        field = battlefield.grid[self.x][self.y]\n",
    "        field.owner = None\n",
    "        for a in range(self.x-1, self.x+2):\n",
    "            for b in range(self.y-1, self.y+2):\n",
    "                if battlefield.grid[a][b] is not None and a != self.x and b != self.y:\n",
    "                    options.append(battlefield.grid[a][b])\n",
    "        options = sorted(options, key=lambda x: -x.resources)\n",
    "        options[0].occupy(self)\n",
    "\n",
    "        \n",
    "class DC(Hero):\n",
    "    \n",
    "    def __init__(self, name, height, weight, strength, sex):\n",
    "        super(DC, self).__init__(name, height, weight, strength, sex)\n",
    "        self.color = '#000099'\n",
    "        \n",
    "    def move(self, battlefield):\n",
    "        options = []\n",
    "        self.stamina -= 1\n",
    "        field = battlefield.grid[self.x][self.y]\n",
    "        field.owner = None\n",
    "        for a in range(self.x-2, self.x+3):\n",
    "            if battlefield.grid[a][self.y] is not None and a != self.x:\n",
    "                options.append(battlefield.grid[a][self.y])\n",
    "        for b in range(self.y-2, self.y+3):\n",
    "            if battlefield.grid[self.x][b] is not None and b != self.y:\n",
    "                options.append(battlefield.grid[self.x][b])\n",
    "        options = sorted(options, key=lambda x: -x.resources)\n",
    "        options[0].occupy(self)"
   ]
  },
  {
   "cell_type": "markdown",
   "metadata": {},
   "source": [
    "### Field\n",
    "Rappresenta un campo della mappa di gioco. Il campo è dotato di un numero di risorse che vengono consumate progressivamente all'arrivo dell'occupante."
   ]
  },
  {
   "cell_type": "code",
   "execution_count": 4,
   "metadata": {},
   "outputs": [],
   "source": [
    "class Field(object):\n",
    "    \n",
    "    def __init__(self, x, y, max_resources=10):\n",
    "        self.x, self.y = x, y\n",
    "        self.max_resources = max_resources\n",
    "        self.resources = random.randint(0, self.max_resources)\n",
    "        self.owner = None\n",
    "    \n",
    "    def get_resource(self):\n",
    "        self.resources -= 1\n",
    "        if self.resources > 0:\n",
    "            return 2\n",
    "        else:\n",
    "            self.resources = 0\n",
    "            return 0\n",
    "    \n",
    "    def occupy(self, hero):\n",
    "        if self.owner is None:\n",
    "            h = hero\n",
    "        else:\n",
    "            if type(hero) is type(self.owner):\n",
    "                self.owner.attack += hero.attack\n",
    "                self.owner.defense += hero.defense\n",
    "                hero.stamina = -1\n",
    "                h = self.owner\n",
    "            else:\n",
    "                winner = hero.fight(self.owner)\n",
    "                h = winner\n",
    "        self.owner = h\n",
    "        self.owner.eat(self)\n",
    "        self.owner.x, self.owner.y = self.x, self.y"
   ]
  },
  {
   "cell_type": "markdown",
   "metadata": {},
   "source": [
    "### BattleField\n",
    "Rappresenta la mappa di gioco come una griglia occupata da Field. Fornisce anche un metodo per la visualizzazione del campo."
   ]
  },
  {
   "cell_type": "code",
   "execution_count": 5,
   "metadata": {},
   "outputs": [],
   "source": [
    "class BattleField(object):\n",
    "    \n",
    "    def __init__(self, size=200, resources_per_field=10):\n",
    "        self.size, self.res = size, resources_per_field\n",
    "        self.fields = [Field(x, y, max_resources=resources_per_field) for y in range(self.size) \n",
    "                       for x in range(self.size)]\n",
    "        self.grid = defaultdict(lambda: defaultdict(lambda: None))\n",
    "        for f in self.fields:\n",
    "            self.grid[f.x][f.y] = f\n",
    "        self.heroes = set()\n",
    "        \n",
    "    def add_hero(self, hero):\n",
    "        i = np.random.randint(0,len(self.fields))\n",
    "        f = self.fields[i]\n",
    "        f.occupy(hero)\n",
    "        self.heroes.add(f.owner)\n",
    "        \n",
    "    def clock(self):\n",
    "        h = set()\n",
    "        for hero in self.heroes:\n",
    "            if hero.stamina > 0:\n",
    "                hero.move(self)\n",
    "                h.add(hero)\n",
    "            else:\n",
    "                field = self.grid[hero.x][hero.y]\n",
    "                field.owner = None\n",
    "        self.heroes = h\n",
    "        \n",
    "    def show(self, figsize=(6, 6)):\n",
    "        grid = np.zeros((self.size, self.size))\n",
    "        x, y, colors = [], [], []\n",
    "        for f in self.fields:\n",
    "            grid[f.x][f.y] = float(f.resources) / self.res\n",
    "            if f.owner is not None:\n",
    "                x.append(f.x)\n",
    "                y.append(f.y)\n",
    "                colors.append(f.owner.color)\n",
    "        fig, ax = plt.subplots(figsize=figsize)\n",
    "        ax.scatter([f.x for f in self.fields], [f.y for f in self.fields],\n",
    "                   c=[f.resources for f in self.fields], cmap='binary', alpha=0.2,\n",
    "                  marker='s', s=200)\n",
    "        ax.scatter(x, y, c=colors)  \n",
    "        plt.show()"
   ]
  },
  {
   "cell_type": "markdown",
   "metadata": {},
   "source": [
    "## Playground"
   ]
  },
  {
   "cell_type": "code",
   "execution_count": 6,
   "metadata": {},
   "outputs": [],
   "source": [
    "F = BattleField(size=10, resources_per_field=4)"
   ]
  },
  {
   "cell_type": "code",
   "execution_count": null,
   "metadata": {},
   "outputs": [],
   "source": [
    "d = DC('A', 173, 76, 200, 'F')\n",
    "m = Marvel('B', 173, 76, 100, 'F')\n",
    "k = Marvel('C', 173, 76, 100, 'M')"
   ]
  },
  {
   "cell_type": "code",
   "execution_count": null,
   "metadata": {},
   "outputs": [],
   "source": [
    "F.add_hero(d)\n",
    "F.add_hero(m)\n",
    "F.add_hero(k)"
   ]
  },
  {
   "cell_type": "code",
   "execution_count": null,
   "metadata": {},
   "outputs": [],
   "source": [
    "F.show(figsize=(3, 3))"
   ]
  },
  {
   "cell_type": "code",
   "execution_count": null,
   "metadata": {},
   "outputs": [],
   "source": [
    "#print [(h.name, h.stamina, h.x, h.y) for h in F.heroes]\n",
    "#print [(f.x, f.y, f.resources) for f in F.fields]\n",
    "\n",
    "for i in range(0,20):\n",
    "    F.show((6,6))\n",
    "    F.clock()\n",
    "    # print [(h.name, h.stamina, h.x, h.y) for h in F.heroes]\n",
    "    # print [(f.x, f.y, f.resources) for f in F.fields]\n",
    "    if len(F.heroes) == 1:\n",
    "        print 'WINNER'\n",
    "        list(F.heroes)[0].print_h()\n",
    "        F.show()\n",
    "        break\n",
    "    clear_output(wait=True)\n",
    "    time.sleep(1.5)"
   ]
  },
  {
   "cell_type": "markdown",
   "metadata": {},
   "source": [
    "# PLAY"
   ]
  },
  {
   "cell_type": "code",
   "execution_count": 7,
   "metadata": {},
   "outputs": [],
   "source": [
    "def load_file(path):\n",
    "    heroes = []\n",
    "    with open(path, 'rU') as infile:\n",
    "        lines = infile.readlines()\n",
    "    for line in lines[1:]:\n",
    "        l = line.rstrip('\\n').split(';')\n",
    "        try:\n",
    "            name, height, weight  = l[0], float(l[4]), float(l[5])\n",
    "            strength, sex, pub = int(l[10]), l[6], l[3]\n",
    "            if pub == 'Marvel Comics':\n",
    "                h = Marvel(name, height, weight, strength, sex)\n",
    "            elif pub == 'DC Comics':\n",
    "                h = DC(name, height, weight, strength, sex)\n",
    "            else:\n",
    "                pass\n",
    "            heroes.append(h)\n",
    "        except IndexError:\n",
    "            pass\n",
    "        except ValueError:\n",
    "            pass\n",
    "        except KeyError:\n",
    "            pass\n",
    "    return heroes"
   ]
  },
  {
   "cell_type": "code",
   "execution_count": 8,
   "metadata": {},
   "outputs": [],
   "source": [
    "heroes = load_file('data/heroes.csv')"
   ]
  },
  {
   "cell_type": "code",
   "execution_count": null,
   "metadata": {},
   "outputs": [],
   "source": []
  },
  {
   "cell_type": "code",
   "execution_count": 9,
   "metadata": {},
   "outputs": [],
   "source": [
    "F = BattleField(size=20, resources_per_field=4)\n",
    "for hero in heroes:\n",
    "    F.add_hero(hero)"
   ]
  },
  {
   "cell_type": "code",
   "execution_count": 10,
   "metadata": {},
   "outputs": [
    {
     "data": {
      "image/png": "[encoded data removed]",
      "text/plain": [
       "<matplotlib.figure.Figure at 0x11050ded0>"
      ]
     },
     "metadata": {},
     "output_type": "display_data"
    }
   ],
   "source": [
    "F.show()"
   ]
  },
  {
   "cell_type": "code",
   "execution_count": 11,
   "metadata": {},
   "outputs": [
    {
     "data": {
      "image/png": "[encoded data removed]",
      "text/plain": [
       "<matplotlib.figure.Figure at 0x110680490>"
      ]
     },
     "metadata": {},
     "output_type": "display_data"
    },
    {
     "name": "stdout",
     "output_type": "stream",
     "text": [
      "9\n"
     ]
    }
   ],
   "source": [
    "for i in range(0,20):\n",
    "    F.show()\n",
    "    F.clock()\n",
    "    if len(F.heroes) == 1:\n",
    "        print 'WINNER'\n",
    "        list(F.heroes)[0].print_h()\n",
    "        F.show()\n",
    "        break\n",
    "    print len(F.heroes)\n",
    "    clear_output(wait=True)\n",
    "    time.sleep(1)"
   ]
  },
  {
   "cell_type": "code",
   "execution_count": null,
   "metadata": {},
   "outputs": [],
   "source": []
  }
 ],
 "metadata": {
  "kernelspec": {
   "display_name": "Python 2",
   "language": "python",
   "name": "python2"
  },
  "language_info": {
   "codemirror_mode": {
    "name": "ipython",
    "version": 2
   },
   "file_extension": ".py",
   "mimetype": "text/x-python",
   "name": "python",
   "nbconvert_exporter": "python",
   "pygments_lexer": "ipython2",
   "version": "2.7.14"
  }
 },
 "nbformat": 4,
 "nbformat_minor": 2
}
