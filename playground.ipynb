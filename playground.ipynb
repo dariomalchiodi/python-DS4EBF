{
 "cells": [
  {
   "cell_type": "markdown",
   "metadata": {},
   "source": [
    "# PLAYGROUND"
   ]
  },
  {
   "cell_type": "code",
   "execution_count": 48,
   "metadata": {},
   "outputs": [],
   "source": [
    "import numpy as np\n",
    "\n",
    "\n",
    "class Person(object):\n",
    "    \n",
    "    def __init__(self, name, intel):\n",
    "        self.n = name\n",
    "        self.i = intel\n",
    "    \n",
    "    def greetings(self):\n",
    "        print 'Ciao, sono {}'.format(self.n)\n",
    "    \n",
    "    def dating(self, other):\n",
    "        p = 1 - np.abs(self.i - other.i)\n",
    "        if np.random.uniform() < p:\n",
    "            return True\n",
    "        else:\n",
    "            return False\n",
    "        \n",
    "class Male(Person):\n",
    "    \n",
    "    def __init__(self, name, intel):\n",
    "        super(Male, self).__init__(name, intel)\n",
    "        self.sex = 0\n",
    "    \n",
    "    def dating(self, other):\n",
    "        p = 1 - np.abs(self.i - other.i)\n",
    "        p += 0.1 * p\n",
    "        p = min([1, p])\n",
    "        if np.random.uniform() < p:\n",
    "            return True\n",
    "        else:\n",
    "            return False\n",
    "\n",
    "        \n",
    "class Female(Person):\n",
    "    \n",
    "    def __init__(self, name, intel):\n",
    "        super(Female, self).__init__(name, intel)\n",
    "        self.sex = 1\n",
    "    \n",
    "    def dating(self, other):\n",
    "        p = 1 - np.abs(self.i - other.i)\n",
    "        p -= 0.1 * p\n",
    "        p = max([0, p])\n",
    "        if np.random.uniform() < p:\n",
    "            return True\n",
    "        else:\n",
    "            return False"
   ]
  },
  {
   "cell_type": "code",
   "execution_count": 49,
   "metadata": {},
   "outputs": [],
   "source": [
    "m = [Male('X', np.random.uniform()) for x in range(1000)]\n",
    "f = [Female('F', np.random.uniform()) for x in range(1000)]\n",
    "p = m + f"
   ]
  },
  {
   "cell_type": "code",
   "execution_count": 50,
   "metadata": {},
   "outputs": [],
   "source": [
    "trials = np.zeros((2,2))\n",
    "for e in range(1000):\n",
    "    a = np.random.choice(p)\n",
    "    b = np.random.choice(p)\n",
    "    outcome = a.dating(b) \n",
    "    if outcome:\n",
    "        o = 1\n",
    "    else:\n",
    "        o = 0\n",
    "    trials[a.sex, b.sex] += o"
   ]
  },
  {
   "cell_type": "code",
   "execution_count": 51,
   "metadata": {},
   "outputs": [
    {
     "name": "stdout",
     "output_type": "stream",
     "text": [
      "[[ 189.  171.]\n",
      " [ 146.  132.]]\n"
     ]
    }
   ],
   "source": [
    "print trials"
   ]
  },
  {
   "cell_type": "code",
   "execution_count": 39,
   "metadata": {},
   "outputs": [
    {
     "name": "stdout",
     "output_type": "stream",
     "text": [
      "0.828\n"
     ]
    }
   ],
   "source": []
  },
  {
   "cell_type": "code",
   "execution_count": null,
   "metadata": {},
   "outputs": [],
   "source": []
  }
 ],
 "metadata": {
  "kernelspec": {
   "display_name": "Python 2",
   "language": "python",
   "name": "python2"
  },
  "language_info": {
   "codemirror_mode": {
    "name": "ipython",
    "version": 2
   },
   "file_extension": ".py",
   "mimetype": "text/x-python",
   "name": "python",
   "nbconvert_exporter": "python",
   "pygments_lexer": "ipython2",
   "version": "2.7.14"
  }
 },
 "nbformat": 4,
 "nbformat_minor": 2
}
