{
 "cells": [
  {
   "cell_type": "markdown",
   "metadata": {},
   "source": [
    "## Linguaggi di programmazione"
   ]
  },
  {
   "cell_type": "markdown",
   "metadata": {},
   "source": [
    "## Python"
   ]
  },
  {
   "cell_type": "markdown",
   "metadata": {},
   "source": [
    "## Python 2 vs. python 3"
   ]
  },
  {
   "cell_type": "markdown",
   "metadata": {},
   "source": [
    "## Installazione"
   ]
  },
  {
   "cell_type": "markdown",
   "metadata": {},
   "source": [
    "## Ambiente di esecuzione\n",
    "\n",
    "- REPL\n",
    "- Script\n",
    "- IDE/Strumenti esplorativi"
   ]
  },
  {
   "cell_type": "markdown",
   "metadata": {},
   "source": [
    "## Gestione di librerie\n",
    "\n",
    "- pip\n",
    "- easy_install\n",
    "- anaconda"
   ]
  },
  {
   "cell_type": "markdown",
   "metadata": {},
   "source": [
    "## Librerie\n",
    "\n",
    "- numpy\n",
    "- pandas\n",
    "- matplotlib\n",
    "- scikit-learn"
   ]
  },
  {
   "cell_type": "markdown",
   "metadata": {},
   "source": [
    "## Elementi del linguaggio\n",
    "\n",
    "- elementi terminali\n",
    "  - costanti numeriche\n",
    "  - letterali stringa\n",
    "- operatori\n",
    "  - matematici\n",
    "  - logigi\n",
    "  - ...\n",
    "- espressioni\n",
    "- funzioni\n",
    "- istruzioni\n",
    "- blocchi di codice\n",
    "- classi e oggetti"
   ]
  },
  {
   "cell_type": "markdown",
   "metadata": {},
   "source": [
    "## Stile"
   ]
  },
  {
   "cell_type": "markdown",
   "metadata": {},
   "source": [
    "## Alcuni riferimenti bibliografici\n",
    "\n",
    "- Magnus Lie Hetland, [Instant Python](http://hetland.org/writing/instant-python.html)\n",
    "- [The Hitchhiker's Guide to Python](http://docs.python-guide.org/en/latest/intro/learning/)\n",
    "- Mark Pilgrim, [Dive Into Python](http://www.diveintopython.net/)\n",
    "- Documentazione ufficiale a https://docs.python.org/2.7/"
   ]
  }
 ],
 "metadata": {
  "kernelspec": {
   "display_name": "Python 3",
   "language": "python",
   "name": "python3"
  },
  "language_info": {
   "codemirror_mode": {
    "name": "ipython",
    "version": 3
   },
   "file_extension": ".py",
   "mimetype": "text/x-python",
   "name": "python",
   "nbconvert_exporter": "python",
   "pygments_lexer": "ipython3",
   "version": "3.5.4"
  },
  "latex_envs": {
   "LaTeX_envs_menu_present": true,
   "autocomplete": true,
   "bibliofile": "biblio.bib",
   "cite_by": "apalike",
   "current_citInitial": 1,
   "eqLabelWithNumbers": true,
   "eqNumInitial": 1,
   "hotkeys": {
    "equation": "Ctrl-E",
    "itemize": "Ctrl-I"
   },
   "labels_anchors": false,
   "latex_user_defs": false,
   "report_style_numbering": false,
   "user_envs_cfg": false
  }
 },
 "nbformat": 4,
 "nbformat_minor": 2
}
