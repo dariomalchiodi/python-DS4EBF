{
 "cells": [
  {
   "cell_type": "markdown",
   "metadata": {},
   "source": [
    "# Introduzione pratica ai tipi di dati in Python\n",
    "Per ulteriori esempi e riferimenti, si veda [An Informal Introduction to Python](https://docs.python.org/2/tutorial/introduction.html#)"
   ]
  },
  {
   "cell_type": "code",
   "execution_count": 128,
   "metadata": {},
   "outputs": [],
   "source": [
    "metadata = \"Name;Identity;Birth place;Publisher;Height;Weight;Gender;First appearance;Eye color;Hair color;Strength;Intelligence\"\n",
    "rowdata = 'Silver Surfer;Norrin Radd;Zenn-La;Marvel Comics;193.00999999999999;101.34;M;;White;No Hair;100;average'"
   ]
  },
  {
   "cell_type": "markdown",
   "metadata": {},
   "source": [
    "## Stringhe\n",
    "Le stringhe in Python sono collezioni di caratteri incluse fra i simboli \"...\" o '...'. Le due notazioni non hanno significative differenze se usiamo \"...\" non dobbiamo quotare il simbolo ' e viceversa."
   ]
  },
  {
   "cell_type": "code",
   "execution_count": 2,
   "metadata": {},
   "outputs": [
    {
     "name": "stdout",
     "output_type": "stream",
     "text": [
      "Ero \"felice\"\n",
      "Ero 'felice'\n",
      "Ero 'felice'\n",
      "Ero \"felice\"\n",
      "Davvero!\n"
     ]
    }
   ],
   "source": [
    "print 'Ero \"felice\"'\n",
    "print 'Ero \\'felice\\''\n",
    "print \"Ero 'felice'\"\n",
    "print \"Ero \\\"felice\\\"\\nDavvero!\""
   ]
  },
  {
   "cell_type": "markdown",
   "metadata": {},
   "source": [
    "Per evitare di interpretare il simbolo \\ come un marcatore possiamo ricorrere alle 'raw strings'. In generale, le stringhe Python possono essere qialificate come stringhe speciali, anteponendo alla stringa un descrittore. Per conoscere il tipo di un dato esiste la funzione `type`."
   ]
  },
  {
   "cell_type": "code",
   "execution_count": 3,
   "metadata": {},
   "outputs": [
    {
     "name": "stdout",
     "output_type": "stream",
     "text": [
      "Bianco\n",
      "ero\n",
      "Bianco\\nero\n",
      "<type 'str'> <type 'str'> <type 'unicode'>\n"
     ]
    }
   ],
   "source": [
    "print 'Bianco\\nero'\n",
    "print r'Bianco\\nero'\n",
    "print type('Bianco\\nero'), type(r'Bianco\\nero'), type(u'Bianco\\nero')"
   ]
  },
  {
   "cell_type": "markdown",
   "metadata": {},
   "source": [
    "Stringhe che occupano più linee e conservano la formattazione sono denotate dai simboli \"\"\"...\"\"\" o '''...'''."
   ]
  },
  {
   "cell_type": "code",
   "execution_count": 4,
   "metadata": {},
   "outputs": [],
   "source": [
    "silverbio = \"\"\"\n",
    "Silver Surfer, alter ego di Norrin Radd, è un personaggio immaginario dei fumetti \n",
    "creato da Stan Lee e Jack Kirby nel 1966 \\\n",
    "e pubblicato dalla casa editrice statunitense Marvel Comics.\n",
    "\n",
    "Esordisce nella serie The Fantastic Four (Vol. 1[1]) n. 48 del 1966, nella Trilogia di Galactus,\n",
    "\\\n",
    "il cui riscontro positivo da parte del pubblico porta a dedicargli una sua serie personale nel 1968.\n",
    "\n",
    "Date importanti:\n",
    "    - 1966\n",
    "    - 1968\n",
    "\"\"\""
   ]
  },
  {
   "cell_type": "code",
   "execution_count": 5,
   "metadata": {},
   "outputs": [
    {
     "name": "stdout",
     "output_type": "stream",
     "text": [
      "\n",
      "Silver Surfer, alter ego di Norrin Radd, è un personaggio immaginario dei fumetti \n",
      "creato da Stan Lee e Jack Kirby nel 1966 e pubblicato dalla casa editrice statunitense Marvel Comics.\n",
      "\n",
      "Esordisce nella serie The Fantastic Four (Vol. 1[1]) n. 48 del 1966, nella Trilogia di Galactus,\n",
      "il cui riscontro positivo da parte del pubblico porta a dedicargli una sua serie personale nel 1968.\n",
      "\n",
      "Date importanti:\n",
      "    - 1966\n",
      "    - 1968\n",
      "\n"
     ]
    }
   ],
   "source": [
    "print silverbio"
   ]
  },
  {
   "cell_type": "markdown",
   "metadata": {},
   "source": [
    "### Concatenazione di stringhe\n",
    "Le stringhe si concatenano con l'operatore `+`, si ripetono con `*`. I 'string literals' (le stringhe con '...' si concatenano anche solo giustapponendole"
   ]
  },
  {
   "cell_type": "code",
   "execution_count": 6,
   "metadata": {},
   "outputs": [
    {
     "name": "stdout",
     "output_type": "stream",
     "text": [
      "super super super silver\n",
      "concatenato\n",
      "Se uso le parentesi e i literals è super comodo!\n"
     ]
    }
   ],
   "source": [
    "print 3 * \"super \" + \"silver\"\n",
    "print 'con' 'catenato'\n",
    "sentence = ('Se uso le parentesi e '\n",
    "      'i literals '\n",
    "      'è super comodo!')\n",
    "print sentence"
   ]
  },
  {
   "cell_type": "markdown",
   "metadata": {},
   "source": [
    "Ma non si possono concatenare variabili e literals!"
   ]
  },
  {
   "cell_type": "code",
   "execution_count": 7,
   "metadata": {},
   "outputs": [],
   "source": [
    "one = 'a '"
   ]
  },
  {
   "cell_type": "code",
   "execution_count": 8,
   "metadata": {},
   "outputs": [
    {
     "ename": "SyntaxError",
     "evalue": "invalid syntax (<ipython-input-8-d5cd63e4d480>, line 1)",
     "output_type": "error",
     "traceback": [
      "\u001b[0;36m  File \u001b[0;32m\"<ipython-input-8-d5cd63e4d480>\"\u001b[0;36m, line \u001b[0;32m1\u001b[0m\n\u001b[0;31m    print one 'string'\u001b[0m\n\u001b[0m                     ^\u001b[0m\n\u001b[0;31mSyntaxError\u001b[0m\u001b[0;31m:\u001b[0m invalid syntax\n"
     ]
    }
   ],
   "source": [
    "print one 'string'"
   ]
  },
  {
   "cell_type": "code",
   "execution_count": 9,
   "metadata": {},
   "outputs": [
    {
     "name": "stdout",
     "output_type": "stream",
     "text": [
      "a string\n"
     ]
    }
   ],
   "source": [
    "print one + 'string'"
   ]
  },
  {
   "cell_type": "markdown",
   "metadata": {},
   "source": [
    "# Indicizzazione delle stringhe\n",
    "I caratteri di una stringa sono indicizzati e accessibili come in una lista, secondo lo schema:\n",
    "\n",
    "|S|i|l|v|e|r|\n",
    "|:---:|:---:|:---:|:---:|:---:|:---:|\n",
    "|0|1|2|3|4|5|\n",
    "|-6|-5|-4|-3|-2|-1|\n"
   ]
  },
  {
   "cell_type": "code",
   "execution_count": 10,
   "metadata": {},
   "outputs": [
    {
     "name": "stdout",
     "output_type": "stream",
     "text": [
      "6\n",
      "S\n",
      "r\n",
      "r\n",
      "S\n"
     ]
    }
   ],
   "source": [
    "silver = 'Silver'\n",
    "print len(silver)\n",
    "print silver[0]\n",
    "print silver[5]\n",
    "print silver[-1]\n",
    "print silver[-6]"
   ]
  },
  {
   "cell_type": "markdown",
   "metadata": {},
   "source": [
    "Possiamo perciò usare con le stringhe una tecnica molto usata anche per le liste e fondamentale in Python: lo 'slicing'"
   ]
  },
  {
   "cell_type": "code",
   "execution_count": 11,
   "metadata": {},
   "outputs": [
    {
     "name": "stdout",
     "output_type": "stream",
     "text": [
      "lver\n",
      "Sil\n",
      "lv\n",
      "ver\n"
     ]
    }
   ],
   "source": [
    "print silver[2:]\n",
    "print silver[:3]\n",
    "print silver[2:4]\n",
    "print silver[3:22]"
   ]
  },
  {
   "cell_type": "markdown",
   "metadata": {},
   "source": [
    "Tuttavia, a differenza delle liste, le stringhe python sono **immutabili**"
   ]
  },
  {
   "cell_type": "code",
   "execution_count": 12,
   "metadata": {},
   "outputs": [
    {
     "ename": "TypeError",
     "evalue": "'str' object does not support item assignment",
     "output_type": "error",
     "traceback": [
      "\u001b[0;31m---------------------------------------------------------------------------\u001b[0m",
      "\u001b[0;31mTypeError\u001b[0m                                 Traceback (most recent call last)",
      "\u001b[0;32m<ipython-input-12-8dce954992af>\u001b[0m in \u001b[0;36m<module>\u001b[0;34m()\u001b[0m\n\u001b[0;32m----> 1\u001b[0;31m \u001b[0msilver\u001b[0m\u001b[0;34m[\u001b[0m\u001b[0;36m1\u001b[0m\u001b[0;34m]\u001b[0m \u001b[0;34m=\u001b[0m \u001b[0;34m'o'\u001b[0m\u001b[0;34m\u001b[0m\u001b[0m\n\u001b[0m",
      "\u001b[0;31mTypeError\u001b[0m: 'str' object does not support item assignment"
     ]
    }
   ],
   "source": [
    "silver[1] = 'o'"
   ]
  },
  {
   "cell_type": "code",
   "execution_count": 15,
   "metadata": {},
   "outputs": [],
   "source": [
    "solver = silver[:1] + 'o' + silver[2:]"
   ]
  },
  {
   "cell_type": "code",
   "execution_count": 16,
   "metadata": {},
   "outputs": [
    {
     "name": "stdout",
     "output_type": "stream",
     "text": [
      "Solver\n"
     ]
    }
   ],
   "source": [
    "print solver"
   ]
  },
  {
   "cell_type": "markdown",
   "metadata": {},
   "source": [
    "### Metodi di utilità per le stringhe\n",
    "In Python, le stringhe sono oggetti dotati di un'ampia gamma di metodi per diverse funzioni (vedi [string methods](https://docs.python.org/2/library/stdtypes.html#string-methods)):"
   ]
  },
  {
   "cell_type": "code",
   "execution_count": 25,
   "metadata": {},
   "outputs": [
    {
     "name": "stdout",
     "output_type": "stream",
     "text": [
      "find() -> 3\n",
      "endswith()/startswith() -> True False\n",
      "lower() -> silver\n",
      "lstrip()/rstrip() -> ilver Silver\n",
      "replace() -> Silvan\n",
      "split() -> ['Sil', 'er']\n",
      "upper() -> SILVER\n",
      "join() -> A Silver hero\n"
     ]
    }
   ],
   "source": [
    "print 'find()', '->', silver.find('ver')\n",
    "print 'endswith()/startswith()', '->', silver.endswith('er'), silver.startswith('er')\n",
    "print 'lower()', '->', silver.lower()\n",
    "print 'lstrip()/rstrip()', '->', silver.lstrip('S'), silver.rstrip('S')\n",
    "print 'replace()', '->', silver.replace('er', 'an')\n",
    "print 'split()', '->', silver.split('v')\n",
    "print 'upper()', '->', silver.upper()\n",
    "print 'join()', '->', silver.join(['A ', ' hero'])"
   ]
  },
  {
   "cell_type": "markdown",
   "metadata": {},
   "source": [
    "### Formattazione di stringhe\n",
    "Le stringhe offrono anche l'operatore `%` (modulo). Si tratta di un operstore che consente di formattare e interpolare una stringa con diversi tipi di dato. "
   ]
  },
  {
   "cell_type": "code",
   "execution_count": 53,
   "metadata": {},
   "outputs": [
    {
     "name": "stdout",
     "output_type": "stream",
     "text": [
      "Silver Surfer è stato creato da Stan Lee e Jack Kirby nel 1966\n"
     ]
    }
   ],
   "source": [
    "print u\"%(superhero)s è stato creato da %(creator)s nel %(year)i\" % {\n",
    "    'superhero': 'Silver Surfer', 'creator': ' e '.join(['Stan Lee', 'Jack Kirby']), 'year': 1966\n",
    "}"
   ]
  },
  {
   "cell_type": "code",
   "execution_count": 54,
   "metadata": {},
   "outputs": [
    {
     "name": "stdout",
     "output_type": "stream",
     "text": [
      "Silver Surfer è stato creato da Stan Lee e Jack Kirby nel 1966\n"
     ]
    }
   ],
   "source": [
    "print u\"{} è stato creato da {} nel {}\".format('Silver Surfer', ' e '.join(['Stan Lee', 'Jack Kirby']), 1966)"
   ]
  },
  {
   "cell_type": "markdown",
   "metadata": {},
   "source": [
    "### Unicode\n",
    "In Python 2.* le stringhe sono intese come succesione di caratteri ASCII dove non esplicitamente codificate per mezzo dei metodi `encode()` e `decode()`. Le stringhe `unicode` vanno dichiarate come tali col carattere `u`."
   ]
  },
  {
   "cell_type": "code",
   "execution_count": 55,
   "metadata": {},
   "outputs": [],
   "source": [
    "u = u'Silver Surfer è nato a Zenn-La'"
   ]
  },
  {
   "cell_type": "code",
   "execution_count": 60,
   "metadata": {},
   "outputs": [
    {
     "data": {
      "text/plain": [
       "u'Silver Surfer \\xe8 nato a Zenn-La'"
      ]
     },
     "execution_count": 60,
     "metadata": {},
     "output_type": "execute_result"
    }
   ],
   "source": [
    "u"
   ]
  },
  {
   "cell_type": "code",
   "execution_count": 61,
   "metadata": {},
   "outputs": [
    {
     "ename": "UnicodeEncodeError",
     "evalue": "'ascii' codec can't encode character u'\\xe8' in position 14: ordinal not in range(128)",
     "output_type": "error",
     "traceback": [
      "\u001b[0;31m---------------------------------------------------------------------------\u001b[0m",
      "\u001b[0;31mUnicodeEncodeError\u001b[0m                        Traceback (most recent call last)",
      "\u001b[0;32m<ipython-input-61-b3b94fb7b5a0>\u001b[0m in \u001b[0;36m<module>\u001b[0;34m()\u001b[0m\n\u001b[0;32m----> 1\u001b[0;31m \u001b[0mstr\u001b[0m\u001b[0;34m(\u001b[0m\u001b[0mu\u001b[0m\u001b[0;34m)\u001b[0m\u001b[0;34m\u001b[0m\u001b[0m\n\u001b[0m",
      "\u001b[0;31mUnicodeEncodeError\u001b[0m: 'ascii' codec can't encode character u'\\xe8' in position 14: ordinal not in range(128)"
     ]
    }
   ],
   "source": [
    "str(u)"
   ]
  },
  {
   "cell_type": "code",
   "execution_count": 62,
   "metadata": {},
   "outputs": [
    {
     "data": {
      "text/plain": [
       "'Silver Surfer \\xc3\\xa8 nato a Zenn-La'"
      ]
     },
     "execution_count": 62,
     "metadata": {},
     "output_type": "execute_result"
    }
   ],
   "source": [
    "u.encode('utf-8')"
   ]
  },
  {
   "cell_type": "code",
   "execution_count": 63,
   "metadata": {},
   "outputs": [
    {
     "data": {
      "text/plain": [
       "'Silver Surfer \\xc3\\xa8 nato a Zenn-La'"
      ]
     },
     "execution_count": 63,
     "metadata": {},
     "output_type": "execute_result"
    }
   ],
   "source": [
    "str(u.encode('utf-8'))"
   ]
  },
  {
   "cell_type": "markdown",
   "metadata": {},
   "source": [
    "# Numeri\n",
    "In Python ci sono 4 tipi numerici principali: `plain integers`, `long integers`, `floating point numbers`, e `complex numbers`. I booleani sono un sottotipo di interi. \n",
    "\n",
    "- I `plain integers` hanno sempre almeno 32 bit di precisione (l'intero massimo è `sys.maxint` e il minimo `-sys.maxint - 1`). \n",
    "- I `Long integers` sono illimitati. \n",
    "- I `Floating point numbers` sono implementati come i tipi `double` in `C` (vedi `sys.float_info`) \n",
    "- I `Complex numbers` hanno una parte reale e una immaginaria entrambe rappresentate come `float`."
   ]
  },
  {
   "cell_type": "code",
   "execution_count": 65,
   "metadata": {},
   "outputs": [
    {
     "name": "stdout",
     "output_type": "stream",
     "text": [
      "9223372036854775807\n",
      "sys.float_info(max=1.7976931348623157e+308, max_exp=1024, max_10_exp=308, min=2.2250738585072014e-308, min_exp=-1021, min_10_exp=-307, dig=15, mant_dig=53, epsilon=2.220446049250313e-16, radix=2, rounds=1)\n"
     ]
    }
   ],
   "source": [
    "import sys\n",
    "print sys.maxint\n",
    "print sys.float_info"
   ]
  },
  {
   "cell_type": "markdown",
   "metadata": {},
   "source": [
    "### Operatori aritmetici"
   ]
  },
  {
   "cell_type": "code",
   "execution_count": 67,
   "metadata": {},
   "outputs": [
    {
     "name": "stdout",
     "output_type": "stream",
     "text": [
      "4\n",
      "6\n",
      "5\n",
      "5.66666666667\n",
      "5.0\n",
      "2\n",
      "4913\n"
     ]
    }
   ],
   "source": [
    "print 2 + 2\n",
    "print 2 * 3\n",
    "print 17 / 3\n",
    "print 17 / 3.0\n",
    "print 17 // 3.0\n",
    "print 17 % 3\n",
    "print 17 ** 3"
   ]
  },
  {
   "cell_type": "markdown",
   "metadata": {},
   "source": [
    "### Conversioni"
   ]
  },
  {
   "cell_type": "code",
   "execution_count": 74,
   "metadata": {},
   "outputs": [
    {
     "name": "stdout",
     "output_type": "stream",
     "text": [
      "2.0 3 3 3.5 True False\n"
     ]
    }
   ],
   "source": [
    "a, b, c = 2, 3.0, 3.5\n",
    "print float(a), int(b), int(c), str(c), bool(c), bool(c - 3.5)"
   ]
  },
  {
   "cell_type": "markdown",
   "metadata": {},
   "source": [
    "# Gestione delle date\n",
    "Le principali funzionalità per la gestione delle date sono incluse nei moduli `datetime`, `time` e `calendar` che si basano sullo standard Coordinated Universal Time (UTC). Le date sono **immutabili**.\n",
    "\n",
    "- `datetime.date` : date secondo il calendario gregoriano\n",
    "- `datetime.time` : tempo, considerando per ogni giorno 24*60*60 secondi\n",
    "- `datetime.datetime` : date + tempo\n",
    "- `datetime.timedelta` : durate con risoluzione al millisecondo\n",
    "- `datetime.tzinfo` : informazione sul time zone"
   ]
  },
  {
   "cell_type": "code",
   "execution_count": 82,
   "metadata": {},
   "outputs": [],
   "source": [
    "import datetime as dtt\n",
    "import time"
   ]
  },
  {
   "cell_type": "code",
   "execution_count": 98,
   "metadata": {},
   "outputs": [],
   "source": [
    "when = dtt.date(1966, 4, 28)\n",
    "now = dtt.time(16, 36)\n",
    "temp = dtt.datetime(when.year, when.month, when.day, now.hour, now.minute, now.second, now.microsecond)\n",
    "today = dtt.datetime.today()"
   ]
  },
  {
   "cell_type": "code",
   "execution_count": 96,
   "metadata": {},
   "outputs": [
    {
     "name": "stdout",
     "output_type": "stream",
     "text": [
      "28\n",
      "4\n",
      "1966\n",
      "16 36 0 0 None\n",
      "1966-04-28 16:36:00\n"
     ]
    }
   ],
   "source": [
    "print when.day\n",
    "print when.month\n",
    "print when.year\n",
    "print now.hour, now.minute, now.second, now.microsecond, now.tzinfo\n",
    "print temp"
   ]
  },
  {
   "cell_type": "code",
   "execution_count": 99,
   "metadata": {},
   "outputs": [],
   "source": [
    "delta = temp - today"
   ]
  },
  {
   "cell_type": "code",
   "execution_count": 109,
   "metadata": {},
   "outputs": [
    {
     "name": "stdout",
     "output_type": "stream",
     "text": [
      "-18949 days, 1:20:50.584075 <type 'datetime.timedelta'> -1637188749.42\n",
      "(2018, 11, 4)\n",
      "2018-03-15 15:15:09.415925\n"
     ]
    }
   ],
   "source": [
    "print delta, type(delta), delta.total_seconds()\n",
    "print today.isocalendar()\n",
    "print today.isoformat(' ')"
   ]
  },
  {
   "cell_type": "markdown",
   "metadata": {},
   "source": [
    "### Conversione tra stringhe e date\n",
    "`strftime()` e `strptime()` convertono date in stringhe e viceversa secondo la seguente convenzione di formato.\n",
    "\n",
    "<table>\n",
    "<colgroup>\n",
    "<col width=\"15%\">\n",
    "<col width=\"43%\">\n",
    "<col width=\"32%\">\n",
    "<col width=\"9%\">\n",
    "</colgroup>\n",
    "<thead valign=\"bottom\">\n",
    "<tr class=\"row-odd\"><th class=\"head\">Directive</th>\n",
    "<th class=\"head\">Meaning</th>\n",
    "<th class=\"head\">Example</th>\n",
    "</tr>\n",
    "</thead>\n",
    "<tbody valign=\"top\">\n",
    "<tr class=\"row-even\"><td><code class=\"docutils literal\"><span class=\"pre\">%a</span></code></td>\n",
    "<td>Weekday as locale’s\n",
    "abbreviated name.</td>\n",
    "<td><div class=\"first last line-block\">\n",
    "<div class=\"line\">Sun, Mon, …, Sat\n",
    "(en_US);</div>\n",
    "<div class=\"line\">So, Mo, …, Sa\n",
    "(de_DE)</div>\n",
    "</div>\n",
    "</td>\n",
    "</tr>\n",
    "<tr class=\"row-odd\"><td><code class=\"docutils literal\"><span class=\"pre\">%A</span></code></td>\n",
    "<td>Weekday as locale’s full name.</td>\n",
    "<td><div class=\"first last line-block\">\n",
    "<div class=\"line\">Sunday, Monday, …,\n",
    "Saturday (en_US);</div>\n",
    "<div class=\"line\">Sonntag, Montag, …,\n",
    "Samstag (de_DE)</div>\n",
    "</div>\n",
    "</td>\n",
    "</tr>\n",
    "<tr class=\"row-even\"><td><code class=\"docutils literal\"><span class=\"pre\">%w</span></code></td>\n",
    "<td>Weekday as a decimal number,\n",
    "where 0 is Sunday and 6 is\n",
    "Saturday.</td>\n",
    "<td>0, 1, …, 6</td>\n",
    "</tr>\n",
    "<tr class=\"row-odd\"><td><code class=\"docutils literal\"><span class=\"pre\">%d</span></code></td>\n",
    "<td>Day of the month as a\n",
    "zero-padded decimal number.</td>\n",
    "<td>01, 02, …, 31</td>\n",
    "</tr>\n",
    "<tr class=\"row-even\"><td><code class=\"docutils literal\"><span class=\"pre\">%b</span></code></td>\n",
    "<td>Month as locale’s abbreviated\n",
    "name.</td>\n",
    "<td><div class=\"first last line-block\">\n",
    "<div class=\"line\">Jan, Feb, …, Dec\n",
    "(en_US);</div>\n",
    "<div class=\"line\">Jan, Feb, …, Dez\n",
    "(de_DE)</div>\n",
    "</div>\n",
    "</td>\n",
    "</tr>\n",
    "<tr class=\"row-odd\"><td><code class=\"docutils literal\"><span class=\"pre\">%B</span></code></td>\n",
    "<td>Month as locale’s full name.</td>\n",
    "<td><div class=\"first last line-block\">\n",
    "<div class=\"line\">January, February,\n",
    "…, December (en_US);</div>\n",
    "<div class=\"line\">Januar, Februar, …,\n",
    "Dezember (de_DE)</div>\n",
    "</div>\n",
    "</td>\n",
    "</tr>\n",
    "<tr class=\"row-even\"><td><code class=\"docutils literal\"><span class=\"pre\">%m</span></code></td>\n",
    "<td>Month as a zero-padded\n",
    "decimal number.</td>\n",
    "<td>01, 02, …, 12</td>\n",
    "</tr>\n",
    "<tr class=\"row-odd\"><td><code class=\"docutils literal\"><span class=\"pre\">%y</span></code></td>\n",
    "<td>Year without century as a\n",
    "zero-padded decimal number.</td>\n",
    "<td>00, 01, …, 99</td>\n",
    "</tr>\n",
    "<tr class=\"row-even\"><td><code class=\"docutils literal\"><span class=\"pre\">%Y</span></code></td>\n",
    "<td>Year with century as a decimal\n",
    "number.</td>\n",
    "<td>1970, 1988, 2001, 2013</td>\n",
    "</tr>\n",
    "<tr class=\"row-odd\"><td><code class=\"docutils literal\"><span class=\"pre\">%H</span></code></td>\n",
    "<td>Hour (24-hour clock) as a\n",
    "zero-padded decimal number.</td>\n",
    "<td>00, 01, …, 23</td>\n",
    "</tr>\n",
    "<tr class=\"row-even\"><td><code class=\"docutils literal\"><span class=\"pre\">%I</span></code></td>\n",
    "<td>Hour (12-hour clock) as a\n",
    "zero-padded decimal number.</td>\n",
    "<td>01, 02, …, 12</td>\n",
    "</tr>\n",
    "<tr class=\"row-odd\"><td><code class=\"docutils literal\"><span class=\"pre\">%p</span></code></td>\n",
    "<td>Locale’s equivalent of either\n",
    "AM or PM.</td>\n",
    "<td><div class=\"first last line-block\">\n",
    "<div class=\"line\">AM, PM (en_US);</div>\n",
    "<div class=\"line\">am, pm (de_DE)</div>\n",
    "</div>\n",
    "</td>\n",
    "</tr>\n",
    "<tr class=\"row-even\"><td><code class=\"docutils literal\"><span class=\"pre\">%M</span></code></td>\n",
    "<td>Minute as a zero-padded\n",
    "decimal number.</td>\n",
    "<td>00, 01, …, 59</td>\n",
    "</tr>\n",
    "<tr class=\"row-odd\"><td><code class=\"docutils literal\"><span class=\"pre\">%S</span></code></td>\n",
    "<td>Second as a zero-padded\n",
    "decimal number.</td>\n",
    "<td>00, 01, …, 59</td>\n",
    "</tr>\n",
    "<tr class=\"row-even\"><td><code class=\"docutils literal\"><span class=\"pre\">%f</span></code></td>\n",
    "<td>Microsecond as a decimal\n",
    "number, zero-padded on the\n",
    "left.</td>\n",
    "<td>000000, 000001, …,\n",
    "999999</td>\n",
    "</tr>\n",
    "<tr class=\"row-odd\"><td><code class=\"docutils literal\"><span class=\"pre\">%z</span></code></td>\n",
    "<td>UTC offset in the form +HHMM\n",
    "or -HHMM (empty string if the\n",
    "the object is naive).</td>\n",
    "<td>(empty), +0000, -0400,\n",
    "+1030</td>\n",
    "</tr>\n",
    "<tr class=\"row-even\"><td><code class=\"docutils literal\"><span class=\"pre\">%Z</span></code></td>\n",
    "<td>Time zone name (empty string\n",
    "if the object is naive).</td>\n",
    "<td>(empty), UTC, EST, CST</td>\n",
    "</tr>\n",
    "<tr class=\"row-odd\"><td><code class=\"docutils literal\"><span class=\"pre\">%j</span></code></td>\n",
    "<td>Day of the year as a\n",
    "zero-padded decimal number.</td>\n",
    "<td>001, 002, …, 366</td>\n",
    "</tr>\n",
    "<tr class=\"row-even\"><td><code class=\"docutils literal\"><span class=\"pre\">%U</span></code></td>\n",
    "<td>Week number of the year\n",
    "(Sunday as the first day of\n",
    "the week) as a zero padded\n",
    "decimal number. All days in a\n",
    "new year preceding the first\n",
    "Sunday are considered to be in\n",
    "week 0.</td>\n",
    "<td>00, 01, …, 53</td>\n",
    "</tr>\n",
    "<tr class=\"row-odd\"><td><code class=\"docutils literal\"><span class=\"pre\">%W</span></code></td>\n",
    "<td>Week number of the year\n",
    "(Monday as the first day of\n",
    "the week) as a decimal number.\n",
    "All days in a new year\n",
    "preceding the first Monday\n",
    "are considered to be in\n",
    "week 0.</td>\n",
    "<td>00, 01, …, 53</td>\n",
    "</tr>\n",
    "<tr class=\"row-even\"><td><code class=\"docutils literal\"><span class=\"pre\">%c</span></code></td>\n",
    "<td>Locale’s appropriate date and\n",
    "time representation.</td>\n",
    "<td><div class=\"first last line-block\">\n",
    "<div class=\"line\">Tue Aug 16 21:30:00\n",
    "1988 (en_US);</div>\n",
    "<div class=\"line\">Di 16 Aug 21:30:00\n",
    "1988 (de_DE)</div>\n",
    "</div>\n",
    "</td>\n",
    "</tr>\n",
    "<tr class=\"row-odd\"><td><code class=\"docutils literal\"><span class=\"pre\">%x</span></code></td>\n",
    "<td>Locale’s appropriate date\n",
    "representation.</td>\n",
    "<td><div class=\"first last line-block\">\n",
    "<div class=\"line\">08/16/88 (None);</div>\n",
    "<div class=\"line\">08/16/1988 (en_US);</div>\n",
    "<div class=\"line\">16.08.1988 (de_DE)</div>\n",
    "</div>\n",
    "</td>\n",
    "</tr>\n",
    "<tr class=\"row-even\"><td><code class=\"docutils literal\"><span class=\"pre\">%X</span></code></td>\n",
    "<td>Locale’s appropriate time\n",
    "representation.</td>\n",
    "<td><div class=\"first last line-block\">\n",
    "<div class=\"line\">21:30:00 (en_US);</div>\n",
    "<div class=\"line\">21:30:00 (de_DE)</div>\n",
    "</div>\n",
    "</td>\n",
    "</tr>\n",
    "<tr class=\"row-odd\"><td><code class=\"docutils literal\"><span class=\"pre\">%%</span></code></td>\n",
    "<td>A literal <code class=\"docutils literal\"><span class=\"pre\">'%'</span></code> character.</td>\n",
    "<td>%</td>\n",
    "</tr>\n",
    "</tbody>\n",
    "</table>"
   ]
  },
  {
   "cell_type": "code",
   "execution_count": 120,
   "metadata": {},
   "outputs": [
    {
     "name": "stdout",
     "output_type": "stream",
     "text": [
      "Mar 15 2018 03:15:09 PM \n"
     ]
    }
   ],
   "source": [
    "print dtt.datetime.strftime(today, \"%b %d %Y %I:%M:%S %p %z\")"
   ]
  },
  {
   "cell_type": "code",
   "execution_count": 122,
   "metadata": {},
   "outputs": [],
   "source": [
    "from_string = dtt.datetime.strptime('6/12/1978 12:36:46','%d/%m/%Y %H:%M:%S')"
   ]
  },
  {
   "cell_type": "code",
   "execution_count": 125,
   "metadata": {},
   "outputs": [
    {
     "name": "stdout",
     "output_type": "stream",
     "text": [
      "1978-12-06 12:36:46\n"
     ]
    }
   ],
   "source": [
    "print from_string"
   ]
  },
  {
   "cell_type": "markdown",
   "metadata": {},
   "source": [
    "# Put things together"
   ]
  },
  {
   "cell_type": "code",
   "execution_count": 129,
   "metadata": {},
   "outputs": [],
   "source": [
    "silver_data = rowdata.split(';')"
   ]
  },
  {
   "cell_type": "code",
   "execution_count": 133,
   "metadata": {},
   "outputs": [
    {
     "name": "stdout",
     "output_type": "stream",
     "text": [
      "['Name', 'Identity', 'Birth place', 'Publisher', 'Height', 'Weight', 'Gender', 'First appearance', 'Eye color', 'Hair color', 'Strength', 'Intelligence']\n",
      "['Silver Surfer', 'Norrin Radd', 'Zenn-La', 'Marvel Comics', '193.00999999999999', '101.34', 'M', '', 'White', 'No Hair', '100', 'average']\n"
     ]
    }
   ],
   "source": [
    "print metadata.split(';')\n",
    "print silver_data"
   ]
  },
  {
   "cell_type": "code",
   "execution_count": null,
   "metadata": {},
   "outputs": [],
   "source": []
  }
 ],
 "metadata": {
  "kernelspec": {
   "display_name": "Python 2",
   "language": "python",
   "name": "python2"
  },
  "language_info": {
   "codemirror_mode": {
    "name": "ipython",
    "version": 2
   },
   "file_extension": ".py",
   "mimetype": "text/x-python",
   "name": "python",
   "nbconvert_exporter": "python",
   "pygments_lexer": "ipython2",
   "version": "2.7.14"
  }
 },
 "nbformat": 4,
 "nbformat_minor": 2
}
